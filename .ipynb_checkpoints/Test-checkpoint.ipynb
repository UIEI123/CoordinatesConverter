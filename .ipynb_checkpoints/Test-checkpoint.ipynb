{
 "cells": [
  {
   "cell_type": "code",
   "execution_count": 1,
   "metadata": {
    "ExecuteTime": {
     "end_time": "2020-07-13T05:41:06.490779Z",
     "start_time": "2020-07-13T05:41:06.486343Z"
    }
   },
   "outputs": [],
   "source": [
    "import CoordinatesConverter as cc"
   ]
  },
  {
   "cell_type": "markdown",
   "metadata": {},
   "source": [
    "原始位置\n",
    "![](./image/东方明珠bd09mc.png)\n"
   ]
  },
  {
   "cell_type": "code",
   "execution_count": 2,
   "metadata": {
    "ExecuteTime": {
     "end_time": "2020-07-13T05:41:13.600925Z",
     "start_time": "2020-07-13T05:41:13.587396Z"
    }
   },
   "outputs": [
    {
     "data": {
      "text/plain": [
       "(121.50637870800159, 31.245413754402072)"
      ]
     },
     "execution_count": 2,
     "metadata": {},
     "output_type": "execute_result"
    }
   ],
   "source": [
    "# 百度墨卡托转百度经纬度\n",
    "cc.bd09mctobd09ll(13526175.38,3642294.77)"
   ]
  },
  {
   "cell_type": "markdown",
   "metadata": {
    "ExecuteTime": {
     "end_time": "2020-07-13T05:31:12.246382Z",
     "start_time": "2020-07-13T05:31:11.948715Z"
    }
   },
   "source": [
    "验证无误差  \n",
    "![](./image/东方明珠bd09mc转bd09ll.png)"
   ]
  },
  {
   "cell_type": "code",
   "execution_count": 3,
   "metadata": {
    "ExecuteTime": {
     "end_time": "2020-07-13T05:41:20.486799Z",
     "start_time": "2020-07-13T05:41:20.481979Z"
    }
   },
   "outputs": [
    {
     "data": {
      "text/plain": [
       "(121.49976792687426, 31.239773859026922)"
      ]
     },
     "execution_count": 3,
     "metadata": {},
     "output_type": "execute_result"
    }
   ],
   "source": [
    "# 百度经纬度转火星坐标系\n",
    "cc.bd09lltogcj02(121.50637870800159, 31.245413754402072)"
   ]
  },
  {
   "cell_type": "markdown",
   "metadata": {},
   "source": [
    "验证有一点偏移  \n",
    "![](./image/东方明珠bd09ll转gcj02.png)"
   ]
  },
  {
   "cell_type": "code",
   "execution_count": 4,
   "metadata": {
    "ExecuteTime": {
     "end_time": "2020-07-13T05:41:29.276727Z",
     "start_time": "2020-07-13T05:41:29.271874Z"
    }
   },
   "outputs": [
    {
     "data": {
      "text/plain": [
       "(121.49533505039834, 31.241787725896685)"
      ]
     },
     "execution_count": 4,
     "metadata": {},
     "output_type": "execute_result"
    }
   ],
   "source": [
    "# 百度经纬度转大地坐标系\n",
    "cc.bd09lltowgs84(121.50637870800159, 31.245413754402072)"
   ]
  },
  {
   "cell_type": "markdown",
   "metadata": {},
   "source": [
    "验证位置较准确  \n",
    "![](./image/东方明珠bd09ll转wgs84.png)"
   ]
  },
  {
   "cell_type": "code",
   "execution_count": 5,
   "metadata": {
    "ExecuteTime": {
     "end_time": "2020-07-13T05:41:37.523099Z",
     "start_time": "2020-07-13T05:41:37.518772Z"
    }
   },
   "outputs": [
    {
     "data": {
      "text/plain": [
       "(121.49978409915525, 31.239788088071684)"
      ]
     },
     "execution_count": 5,
     "metadata": {},
     "output_type": "execute_result"
    }
   ],
   "source": [
    "# 大地坐标系转火星坐标系 \n",
    "cc.wgs84togcj02(121.49533505039834, 31.241787725896685)"
   ]
  },
  {
   "cell_type": "markdown",
   "metadata": {
    "ExecuteTime": {
     "end_time": "2020-07-13T05:36:38.229064Z",
     "start_time": "2020-07-13T05:36:38.199116Z"
    }
   },
   "source": [
    "反向转换，有误差，但是图上看基本一致  \n",
    "![](./image/东方明珠wgs84转gcj02.png)"
   ]
  },
  {
   "cell_type": "code",
   "execution_count": 6,
   "metadata": {
    "ExecuteTime": {
     "end_time": "2020-07-13T05:41:46.370368Z",
     "start_time": "2020-07-13T05:41:46.365766Z"
    }
   },
   "outputs": [
    {
     "data": {
      "text/plain": [
       "(121.50639469331435, 31.24542795230943)"
      ]
     },
     "execution_count": 6,
     "metadata": {},
     "output_type": "execute_result"
    }
   ],
   "source": [
    "# 大地坐标系转百度坐标系\n",
    "cc.wgs84tobd09ll(121.49533505039834, 31.241787725896685)"
   ]
  },
  {
   "cell_type": "markdown",
   "metadata": {
    "ExecuteTime": {
     "end_time": "2020-07-13T05:37:28.084144Z",
     "start_time": "2020-07-13T05:37:28.076494Z"
    }
   },
   "source": [
    "反向转换，有误差，但是图上看基本一致\n",
    "![](./image/东方明珠wgs84转bd09ll.png)"
   ]
  },
  {
   "cell_type": "code",
   "execution_count": 7,
   "metadata": {},
   "outputs": [
    {
     "data": {
      "text/plain": [
       "0.87362428377919"
      ]
     },
     "execution_count": 7,
     "metadata": {},
     "output_type": "execute_result"
    }
   ],
   "source": [
    "#  上海中心大厦 121.511996,31.239207\n",
    "cc.CalDistance(121.50637870800159, 31.245413754402072, 121.511996, 31.239207)"
   ]
  },
  {
   "cell_type": "code",
   "execution_count": 11,
   "metadata": {},
   "outputs": [
    {
     "data": {
      "text/plain": [
       "0.8745871761089834"
      ]
     },
     "execution_count": 11,
     "metadata": {},
     "output_type": "execute_result"
    }
   ],
   "source": [
    "lon1, lat1 = cc.bd09lltowgs84(121.50637870800159, 31.245413754402072)\n",
    "lon2, lat2 = cc.bd09lltowgs84(121.511996, 31.239207)\n",
    "cc.CalDistance(lon1,lat1,lon2,lat2)"
   ]
  },
  {
   "cell_type": "code",
   "execution_count": 12,
   "metadata": {},
   "outputs": [
    {
     "data": {
      "text/plain": [
       "0.8751147079723156"
      ]
     },
     "execution_count": 12,
     "metadata": {},
     "output_type": "execute_result"
    }
   ],
   "source": [
    "lon1, lat1 = cc.bd09lltogcj02(121.50637870800159, 31.245413754402072)\n",
    "lon2, lat2 = cc.bd09lltogcj02(121.511996, 31.239207)\n",
    "cc.CalDistance(lon1,lat1,lon2,lat2)"
   ]
  },
  {
   "cell_type": "markdown",
   "metadata": {},
   "source": [
    "距离验证 \n",
    "![](./image/距离验证.png)"
   ]
  },
  {
   "cell_type": "markdown",
   "metadata": {},
   "source": [
    "**结论**:  \n",
    "百度墨卡托米制坐标与百度经纬度坐标无误差    \n",
    "百度经纬度坐标与大地坐标之间转换误差基本无误差  \n",
    "大地坐标系与火星坐标系之间转换有一点偏移，可忽略     \n",
    "直线距离计算准确    "
   ]
  }
 ],
 "metadata": {
  "kernelspec": {
   "display_name": "Python 3",
   "language": "python",
   "name": "python3"
  },
  "language_info": {
   "codemirror_mode": {
    "name": "ipython",
    "version": 3
   },
   "file_extension": ".py",
   "mimetype": "text/x-python",
   "name": "python",
   "nbconvert_exporter": "python",
   "pygments_lexer": "ipython3",
   "version": "3.7.3"
  },
  "latex_envs": {
   "LaTeX_envs_menu_present": true,
   "autoclose": false,
   "autocomplete": true,
   "bibliofile": "biblio.bib",
   "cite_by": "apalike",
   "current_citInitial": 1,
   "eqLabelWithNumbers": true,
   "eqNumInitial": 1,
   "hotkeys": {
    "equation": "Ctrl-E",
    "itemize": "Ctrl-I"
   },
   "labels_anchors": false,
   "latex_user_defs": false,
   "report_style_numbering": false,
   "user_envs_cfg": false
  },
  "toc": {
   "base_numbering": 1,
   "nav_menu": {},
   "number_sections": true,
   "sideBar": true,
   "skip_h1_title": false,
   "title_cell": "Table of Contents",
   "title_sidebar": "Contents",
   "toc_cell": false,
   "toc_position": {},
   "toc_section_display": true,
   "toc_window_display": false
  }
 },
 "nbformat": 4,
 "nbformat_minor": 2
}
